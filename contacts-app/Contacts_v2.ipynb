{
 "cells": [
  {
   "cell_type": "markdown",
   "id": "067dc1e3-682f-4ce7-ab2b-3e4338b9dacf",
   "metadata": {},
   "source": [
    "## Contacts App\n",
    "> Following [Hypermedia Systems book](https://hypermedia.systems)"
   ]
  },
  {
   "cell_type": "code",
   "execution_count": 1,
   "id": "1b618fc3-44b3-4895-9c29-8b0ac8dd66b1",
   "metadata": {},
   "outputs": [],
   "source": [
    "#| default_exp contacts"
   ]
  },
  {
   "cell_type": "code",
   "execution_count": 2,
   "id": "8f4ab25b-6393-4f28-887b-fb71703425d8",
   "metadata": {},
   "outputs": [],
   "source": [
    "#| export\n",
    "from fasthtml.common import *\n",
    "from fasthtml.jupyter import JupyUvi, HTMX\n",
    "from monsterui.all import *\n",
    "import json"
   ]
  },
  {
   "cell_type": "code",
   "execution_count": 3,
   "id": "f7f6a024-ce9e-4122-8b4a-6de11ab9883b",
   "metadata": {},
   "outputs": [],
   "source": [
    "#| export\n",
    "app,rt,contacts,Contact = fast_app(\"data/contacts.db\",hdrs=Theme.blue.headers(),\n",
    "                                    id=int, first=str, last=str, phone=str, email=str, errors=str,\n",
    "                                    pk=\"id\", live=True)"
   ]
  },
  {
   "cell_type": "code",
   "execution_count": 4,
   "id": "ff5c09b1-22ca-4604-997b-62a08f8d9ea6",
   "metadata": {},
   "outputs": [],
   "source": [
    "#| export\n",
    "if not contacts(): \n",
    "    with open(\"contacts.json\",\"r\") as f: data = json.load(f)\n",
    "    contacts.insert_all(data)"
   ]
  },
  {
   "cell_type": "markdown",
   "id": "8ec8c456-cffd-4b60-9b33-0e57d70e6d33",
   "metadata": {},
   "source": [
    "### Table view"
   ]
  },
  {
   "cell_type": "code",
   "execution_count": 5,
   "id": "16af06a3-17d7-4578-915b-89aa228e5b78",
   "metadata": {},
   "outputs": [],
   "source": [
    "#| export\n",
    "@rt(\"/\")\n",
    "def get(): return Redirect(\"/contacts\")\n",
    "\n",
    "\n",
    "@rt(\"/contacts\")\n",
    "def get(q:str=None):\n",
    "    search = Form(\n",
    "        DivHStacked(\n",
    "            Input(name=\"q\", value=q, placeholder=\"Search contacts...\", cls=\"w-full md:w-2/3 lg:w-1/2\", hx_get=\"/contacts/search\",\n",
    "                  hx_trigger=\"keyup changed delay:500ms\", hx_target=\"#contacts-table\", hx_include='[name=\"q\"]'),\n",
    "            Button(\"Search\", type=\"submit\")\n",
    "       ),\n",
    "       cls=\"mt-8\"\n",
    "    )\n",
    "    return Container(page_heading, search, contacts_table(q), add_button, Div(id=\"modal-container\"), Div(id=\"success-toast\"))\n",
    "\n",
    "@rt(\"/contacts/search\")\n",
    "def get(q: str = ''): return contacts_table(q)"
   ]
  },
  {
   "cell_type": "markdown",
   "id": "6e8f7c06-8494-4bda-a521-300011c35c18",
   "metadata": {},
   "source": [
    "### Edit Contacts"
   ]
  },
  {
   "cell_type": "code",
   "execution_count": 6,
   "id": "576a43e2-255e-4522-b761-1de46899e8c9",
   "metadata": {},
   "outputs": [],
   "source": [
    "@rt(\"/contacts/{id:int}/edit\")\n",
    "def get(id:int):\n",
    "    contact=contacts[id]\n",
    "    \n",
    "    return Modal(\n",
    "        contact_form(contact, action=f\"/contacts/{id}/update\"),\n",
    "        header=ModalHeader(H3(\"Edit Contact\")),\n",
    "        id=\"contact-modal\",\n",
    "        open=True\n",
    "    )\n",
    "\n",
    "@rt(\"/contacts/{id:int}/update\")\n",
    "def post(id: int, contact: Contact):\n",
    "    return handle_contact_save(contact, id)"
   ]
  },
  {
   "cell_type": "markdown",
   "id": "48772f8b-4796-4591-94e0-f3bfa2c88cdf",
   "metadata": {},
   "source": [
    "### New Contacts"
   ]
  },
  {
   "cell_type": "code",
   "execution_count": 7,
   "id": "19e3141d-f34b-481d-8178-bf238e7b0b65",
   "metadata": {
    "editable": true,
    "slideshow": {
     "slide_type": ""
    },
    "tags": []
   },
   "outputs": [],
   "source": [
    "#| export\n",
    "@rt(\"/contacts/new\")\n",
    "def get():\n",
    "    \"\"\"Create a modal for adding a contact\"\"\"\n",
    "    return Modal(\n",
    "        contact_form(),\n",
    "        header=ModalHeader(H3(\"Add Contact\")),\n",
    "        id=\"contact-modal\",\n",
    "        open=True\n",
    "    )\n",
    "\n",
    "@rt(\"/dismiss-toast\")\n",
    "def get(): return Div(id=\"success-toast\")  "
   ]
  },
  {
   "cell_type": "code",
   "execution_count": 8,
   "id": "9bccf9cf-69a2-47b9-94e9-80b4bcc7fe3d",
   "metadata": {
    "editable": true,
    "slideshow": {
     "slide_type": ""
    },
    "tags": []
   },
   "outputs": [],
   "source": [
    "#| export\n",
    "#Try routing to /new as in the book\n",
    "@rt(\"/contacts/create\")\n",
    "def post(contact: Contact):\n",
    "    return handle_contact_save(contact)"
   ]
  },
  {
   "cell_type": "markdown",
   "id": "75df9017-040a-493c-8851-a46dee6306e7",
   "metadata": {},
   "source": [
    "### Detail view"
   ]
  },
  {
   "cell_type": "code",
   "execution_count": 9,
   "id": "c243ef7e-fdb7-4a42-b888-78de86123e14",
   "metadata": {},
   "outputs": [],
   "source": [
    "#| export\n",
    "@rt(\"/contacts/{id:int}\")\n",
    "def get(id:int): return contact_detail(contacts[id])"
   ]
  },
  {
   "cell_type": "markdown",
   "id": "d5bd42e9-4eec-40a2-bd55-19c32e49b2e7",
   "metadata": {},
   "source": [
    "### Helper functions"
   ]
  },
  {
   "cell_type": "code",
   "execution_count": 18,
   "id": "00efc52d-0832-45b5-a9e2-02add7276d00",
   "metadata": {},
   "outputs": [],
   "source": [
    "#| export\n",
    "def header_render(col):\n",
    "    \"\"\"Render header for a table\"\"\"\n",
    "    return Th(col.title() if col != \"actions\" else \"\", expand=True)\n",
    "\n",
    "def action_buttons(contact):\n",
    "    \"\"\"Add buttons to view and edit contact\"\"\"\n",
    "    return DivHStacked(\n",
    "        Button(UkIcon(\"eye\", cls=\"mr-2\"), \"View\", cls=ButtonT.ghost, hx_get=f'/contacts/{contact.id}', hx_target='#modal-container'),\n",
    "        Button(UkIcon(\"pencil\", cls=\"mr-2\"),\"Edit\", cls=ButtonT.ghost, hx_get=f'/contacts/{contact.id}/edit', hx_target='#modal-container')\n",
    "    )\n",
    "\n",
    "def contacts_table(q=None):\n",
    "    \"\"\"Create a table with contacts applying a filter is query was provided\"\"\"\n",
    "    rows = filter_contacts(q)\n",
    "    return Table(\n",
    "        Thead(\n",
    "            Tr(*[Th(col) for col in [\"First\", \"Last\", \"Phone\", \"Email\", \"Actions\"]])\n",
    "        ),\n",
    "        Tbody(\n",
    "            *[Tr(\n",
    "                Td(c.first or \"\"),\n",
    "                Td(c.last or \"\"),\n",
    "                Td(c.phone or \"\"),\n",
    "                Td(c.email or \"\"),\n",
    "                Td(action_buttons(c))\n",
    "            ) for c in rows]\n",
    "        ),\n",
    "        cls=(TableT.hover, TableT.divider, TableT.responsive),\n",
    "        id=\"contacts-table\"\n",
    "    )\n",
    "\n",
    "def filter_contacts(q=None):\n",
    "    \"\"\"Filter contacts that have `q` in first name, last name or email\"\"\"\n",
    "    if not q: return contacts(order_by=\"id\")\n",
    "    q = q.lower()\n",
    "    return [o for o in contacts(order_by=\"id\")\n",
    "            if q in (o.first or \"\").lower()\n",
    "            or q in (o.last or \"\").lower()\n",
    "            or q in (o.email or \"\").lower()]"
   ]
  },
  {
   "cell_type": "code",
   "execution_count": 27,
   "id": "b930fdc2-2157-47ba-82a9-6508ef025023",
   "metadata": {},
   "outputs": [],
   "source": [
    "#| export\n",
    "def handle_contact_save(contact, id=None):\n",
    "    \"\"\"Common logic for saving a contact (create or update)\"\"\"\n",
    "    # validation for errors (TBD: refactor later)\n",
    "    errors = {}\n",
    "    if not contact.first: errors[\"first\"] = \"First name is required\"\n",
    "    if not contact.email: errors[\"email\"] = \"Email is required\"\n",
    "    elif any(c.email == contact.email and (c.id != id) for c in contacts()): errors[\"email\"] = \"Email already exists\" \n",
    "\n",
    "    if errors: \n",
    "        contact.errors = json.dumps(errors)\n",
    "        action = '/contacts/create' if id is None else f'/contacts/{id}/update'\n",
    "        return Modal(\n",
    "            contact_form(contact, action), \n",
    "            header=ModalHeader(H3(\"Edit Contact\" if id else \"Add Contact\")),\n",
    "            id=\"contact-modal\", open=True)\n",
    "\n",
    "    # If validation passes, save the contact\n",
    "    if id:\n",
    "        # Update existing contact\n",
    "        contact.id = id\n",
    "        contacts.update(contact)\n",
    "        message = \"Contact updated successfully!\"\n",
    "    else:\n",
    "        # Create new contact\n",
    "        contacts.insert(contact)\n",
    "        message = \"Contact added successfully!\"\n",
    "\n",
    "    # create an out-of-band replacement for the contacts table\n",
    "    updated_table = Div(contacts_table(),id=\"contacts-table\", hx_swap_oob=\"true\")\n",
    "\n",
    "    # Create a toast notification that appears in the center of the screen\n",
    "    success_toast = Toast(\n",
    "        DivLAligned(UkIcon(\"check-circle\", cls='ml-2 text-success'), Span(message)),\n",
    "        id=\"success-toast\", alert_cls=AlertT.success, cls=(ToastHT.center, ToastVT.middle), hx_swap_oob=\"true\",\n",
    "        hx_get=\"/dismiss-toast\", hx_trigger=\"load delay:3s\", hx_target=\"#success-toast\")\n",
    "    \n",
    "    # Return both components\n",
    "    return Div(updated_table, success_toast)"
   ]
  },
  {
   "cell_type": "code",
   "execution_count": 28,
   "id": "6310375a-f0ac-4549-82d1-24c440af79f6",
   "metadata": {},
   "outputs": [],
   "source": [
    "#| export\n",
    "def contact_form(contact=None, action=\"/contacts/create\"):\n",
    "    \"\"\"Reusable form that works both for new and edit\"\"\"\n",
    "\n",
    "    # parse errors if they exist\n",
    "    errors = json.loads(contact.errors) if contact and contact.errors else {}\n",
    "\n",
    "    return Form(\n",
    "        Grid(\n",
    "            Div(\n",
    "                LabelInput(\"First Name\", id=\"first\", placeholder=\"First Name\", value=contact.first if contact else \"\"),\n",
    "                P(errors.get(\"first\", \"\"), cls=\"text-error text-sm mt-1\") if \"first\" in errors else None),\n",
    "            Div(\n",
    "                LabelInput(\"Last Name\", id=\"last\", placeholder=\"Last Name\", value=contact.last if contact else \"\")), cols=2),\n",
    "        Grid(\n",
    "            Div(\n",
    "                LabelInput(\"Phone\", id=\"phone\", placeholder='Phone', value=contact.phone if contact else \"\")),\n",
    "            Div(\n",
    "                LabelInput(\"Email\", id=\"email\", placeholder='Email', value=contact.email if contact else \"\"),\n",
    "                P(errors.get(\"email\",\"\"), cls=\"text-error text-sm mt-1\") if \"email\" in errors else None), cols=2),\n",
    "        DivRAligned(\n",
    "            ModalCloseButton(\"Cancel\", cls=ButtonT.ghost),\n",
    "            Button(\"Save\", cls=ButtonT.primary, type=\"submit\")),\n",
    "        hx_post=action,\n",
    "        hx_target=\"#modal-container\"\n",
    "    )"
   ]
  },
  {
   "cell_type": "code",
   "execution_count": 29,
   "id": "07a43d06-b9b9-422d-a617-dd2330cd68fb",
   "metadata": {},
   "outputs": [],
   "source": [
    "#| export\n",
    "def contact_detail(contact):\n",
    "    \"\"\"Detail view for a contact\"\"\"\n",
    "\n",
    "    return Modal(\n",
    "        ModalBody(\n",
    "            # Use a single centered container for the entire content\n",
    "            DivCentered(\n",
    "                # Name at the top, centered\n",
    "                H4(f\"{contact.first or ''} {contact.last or ''}\", cls=(TextT.bold, TextT.center, \"mb-6\")),\n",
    "                \n",
    "                # Centered container for phone row\n",
    "                DivLAligned(UkIcon('phone', cls='mr-2 text-primary'), P(contact.phone or '-'), cls=\"mb-4 justify-center\"),\n",
    "                \n",
    "                # Centered container for email row\n",
    "                DivLAligned(UkIcon('mail', cls='mr-2 text-primary'), P(contact.email or '-'), cls=\"justify-center\"),\n",
    "                \n",
    "                # Make sure the outer container allows vertical stacking\n",
    "                cls=\"items-center py-4\"\n",
    "            )\n",
    "        ),\n",
    "        header = ModalHeader(H3(\"Contact Details\")),\n",
    "        footer = DivFullySpaced(\n",
    "            ModalCloseButton(\"Close\", cls=ButtonT.primary),\n",
    "            Button(UkIcon(\"pencil\", cls=\"mr-2\"), \"Edit\", cls=ButtonT.primary, hx_get=f\"/contacts/{contact.id}/edit\", \n",
    "                   hx_target=\"#modal-container\")\n",
    "        ),    \n",
    "        id = \"contact-modal\",\n",
    "        open=True  # This ensures the modal opens automatically\n",
    "    )"
   ]
  },
  {
   "cell_type": "markdown",
   "id": "6348c823-09f2-40f1-9078-452de48b3931",
   "metadata": {},
   "source": [
    "### Components"
   ]
  },
  {
   "cell_type": "code",
   "execution_count": 30,
   "id": "594c71e4-368a-49b5-aa4d-d3bceff69b9f",
   "metadata": {},
   "outputs": [],
   "source": [
    "#| export\n",
    "page_heading = Div(cls=\"space-y-2\")(H1(\"Contacts\"), P(\"Manage your contacts!\", cls=TextPresets.muted_sm))\n",
    "\n",
    "add_button = DivLAligned(\n",
    "    Button(UkIcon(\"plus-circle\", cls=\"mr-2\"), \"Add Contact\", cls=ButtonT.primary, hx_get=\"/contacts/new\", hx_target=\"#modal-container\"),\n",
    "    cls=\"mb-4 mt-4\"\n",
    ")"
   ]
  },
  {
   "cell_type": "markdown",
   "id": "36dc3f5b-9a98-4a02-a3b2-6b54c4f5189e",
   "metadata": {},
   "source": [
    "### Support functions"
   ]
  },
  {
   "cell_type": "code",
   "execution_count": 23,
   "id": "e9f7cee8-81b0-4375-bf58-24f74b66af21",
   "metadata": {},
   "outputs": [],
   "source": [
    "#contacts.delete_where(\"id>=20\")\n",
    "# contacts()"
   ]
  },
  {
   "cell_type": "code",
   "execution_count": 31,
   "id": "f78c995c-6341-4eda-9bc8-0035c214f0c7",
   "metadata": {},
   "outputs": [],
   "source": [
    "server.stop()"
   ]
  },
  {
   "cell_type": "code",
   "execution_count": 32,
   "id": "d20edf1c-774a-46f3-a2c5-1a3207ce9e88",
   "metadata": {
    "scrolled": true
   },
   "outputs": [
    {
     "data": {
      "text/html": [
       "\n",
       "<script>\n",
       "document.body.addEventListener('htmx:configRequest', (event) => {\n",
       "    if(event.detail.path.includes('://')) return;\n",
       "    htmx.config.selfRequestsOnly=false;\n",
       "    event.detail.path = `${location.protocol}//${location.hostname}:8000${event.detail.path}`;\n",
       "});\n",
       "</script>"
      ],
      "text/plain": [
       "<IPython.core.display.HTML object>"
      ]
     },
     "metadata": {},
     "output_type": "display_data"
    }
   ],
   "source": [
    "server = JupyUvi(app)"
   ]
  },
  {
   "cell_type": "code",
   "execution_count": 33,
   "id": "b6138ab1-18d2-4f2a-bd8a-6d3577b81f32",
   "metadata": {
    "scrolled": true
   },
   "outputs": [
    {
     "data": {
      "text/html": [
       "<iframe src=\"http://localhost:8000\" style=\"width: 100%; height: auto; border: none;\" onload=\"{\n",
       "        let frame = this;\n",
       "        window.addEventListener('message', function(e) {\n",
       "            if (e.source !== frame.contentWindow) return; // Only proceed if the message is from this iframe\n",
       "            if (e.data.height) frame.style.height = (e.data.height+1) + 'px';\n",
       "        }, false);\n",
       "    }\" allow=\"accelerometer; autoplay; camera; clipboard-read; clipboard-write; display-capture; encrypted-media; fullscreen; gamepad; geolocation; gyroscope; hid; identity-credentials-get; idle-detection; magnetometer; microphone; midi; payment; picture-in-picture; publickey-credentials-get; screen-wake-lock; serial; usb; web-share; xr-spatial-tracking\"></iframe> "
      ],
      "text/plain": [
       "<IPython.core.display.HTML object>"
      ]
     },
     "execution_count": 33,
     "metadata": {},
     "output_type": "execute_result"
    }
   ],
   "source": [
    "HTMX()"
   ]
  },
  {
   "cell_type": "code",
   "execution_count": 14,
   "id": "0aa93e70-7bc9-4465-b773-17b8e6311fc3",
   "metadata": {},
   "outputs": [],
   "source": [
    "# running at http://localhost:8000/"
   ]
  },
  {
   "cell_type": "code",
   "execution_count": null,
   "id": "9717119d-2ff8-4762-801a-99e4a32a9dd8",
   "metadata": {},
   "outputs": [],
   "source": [
    "#| export\n",
    "serve()"
   ]
  },
  {
   "cell_type": "code",
   "execution_count": 35,
   "id": "2473e8f5-ad4e-4087-8c96-d0a339cb11a5",
   "metadata": {},
   "outputs": [],
   "source": [
    "#from nbdev.export import nb_export\n",
    "nb_export('Contacts_v2.ipynb')"
   ]
  },
  {
   "cell_type": "code",
   "execution_count": null,
   "id": "0eab52df-ed86-4467-8392-021fede50010",
   "metadata": {},
   "outputs": [],
   "source": []
  }
 ],
 "metadata": {
  "kernelspec": {
   "display_name": "Python 3 (ipykernel)",
   "language": "python",
   "name": "python3"
  },
  "language_info": {
   "codemirror_mode": {
    "name": "ipython",
    "version": 3
   },
   "file_extension": ".py",
   "mimetype": "text/x-python",
   "name": "python",
   "nbconvert_exporter": "python",
   "pygments_lexer": "ipython3",
   "version": "3.12.8"
  }
 },
 "nbformat": 4,
 "nbformat_minor": 5
}
