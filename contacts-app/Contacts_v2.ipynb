{
 "cells": [
  {
   "cell_type": "code",
   "execution_count": 1,
   "id": "8f4ab25b-6393-4f28-887b-fb71703425d8",
   "metadata": {},
   "outputs": [],
   "source": [
    "from fasthtml.common import *\n",
    "from fasthtml.jupyter import JupyUvi, HTMX\n",
    "from monsterui.all import *\n",
    "import json"
   ]
  },
  {
   "cell_type": "code",
   "execution_count": 2,
   "id": "f7f6a024-ce9e-4122-8b4a-6de11ab9883b",
   "metadata": {},
   "outputs": [],
   "source": [
    "app,rt,contacts,Contact = fast_app('data/contacts.db',hdrs=Theme.blue.headers(),\n",
    "                                    id=int, first=str, last=str, phone=str, email=str, errors=str,\n",
    "                                    pk='id', live=True)"
   ]
  },
  {
   "cell_type": "code",
   "execution_count": 3,
   "id": "ff5c09b1-22ca-4604-997b-62a08f8d9ea6",
   "metadata": {},
   "outputs": [],
   "source": [
    "if not contacts(): \n",
    "    with open('contacts.json','r') as f: data = json.load(f)\n",
    "    contacts.insert_all(data)"
   ]
  },
  {
   "cell_type": "markdown",
   "id": "8ec8c456-cffd-4b60-9b33-0e57d70e6d33",
   "metadata": {},
   "source": [
    "### Table with contacts"
   ]
  },
  {
   "cell_type": "code",
   "execution_count": 13,
   "id": "00efc52d-0832-45b5-a9e2-02add7276d00",
   "metadata": {},
   "outputs": [],
   "source": [
    "def header_render(col): \n",
    "    return Th(col.title() if col != 'actions' else '', expand=True)\n",
    "\n",
    "def action_buttons(contact):\n",
    "    return DivHStacked(\n",
    "        Button(UkIcon('eye',cls='mr-2'), 'View', cls=ButtonT.ghost, hx_get=f'/contacts/{contact.id}', hx_target='#modal-container', hx_swap=\"innerHTML\"),\n",
    "        Button(UkIcon('pencil', cls='mr-2'),\"Edit\", cls=ButtonT.ghost, hx_get=f'/contacts/{contact.id}/edit')\n",
    "    )\n",
    "\n",
    "def contacts_table(q=None):\n",
    "    rows = filter_contacts(q)\n",
    "    return Table(\n",
    "        Thead(\n",
    "            Tr(*[Th(col) for col in ['First', 'Last', 'Phone', 'Email', 'Actions']])\n",
    "        ),\n",
    "        Tbody(\n",
    "            *[Tr(\n",
    "                Td(c.first or ''),\n",
    "                Td(c.last or ''),\n",
    "                Td(c.phone or ''),\n",
    "                Td(c.email or ''),\n",
    "                Td(action_buttons(c))\n",
    "            ) for c in rows]\n",
    "        ),\n",
    "        cls=(TableT.hover, TableT.divider, TableT.responsive),\n",
    "        id='contacts-table'\n",
    "    )\n",
    "\n",
    "def filter_contacts(q=None):\n",
    "    if not q: return contacts(order_by='id')\n",
    "    q = q.lower()\n",
    "    return [o for o in contacts(order_by='id')\n",
    "            if q in (o.first or '').lower()\n",
    "            or q in (o.last or '').lower()\n",
    "            or q in (o.email or '').lower()]\n",
    "\n",
    "    \n",
    "page_heading = Div(cls='space-y-2')(\n",
    "                    H1('Contacts'), P(\"Manage your contacts!\", cls=TextPresets.muted_sm))"
   ]
  },
  {
   "cell_type": "code",
   "execution_count": 14,
   "id": "07a43d06-b9b9-422d-a617-dd2330cd68fb",
   "metadata": {},
   "outputs": [],
   "source": [
    "def view_contact_modal(contact):\n",
    "    return Modal(\n",
    "        ModalBody(\n",
    "            DivVStacked(\n",
    "                DivHStacked(Strong(\"First Name:\"), P(contact.first or '-')),\n",
    "                DivHStacked(Strong(\"Last Name:\"), P(contact.last or '-')),\n",
    "                DivHStacked(Strong(\"Phone:\"), P(contact.phone or '-')),\n",
    "                DivHStacked(Strong(\"Email:\"), P(contact.email or '-')),\n",
    "                cls='space-y-4'\n",
    "            )\n",
    "        ),\n",
    "        header = ModalHeader(H3(\"Contact Details\")),\n",
    "        footer = ModalCloseButton(\"Close\", cls=ButtonT.primary),\n",
    "        id = 'contact-modal',\n",
    "        open=True  # This ensures the modal opens automatically\n",
    "    )"
   ]
  },
  {
   "cell_type": "code",
   "execution_count": 15,
   "id": "16af06a3-17d7-4578-915b-89aa228e5b78",
   "metadata": {},
   "outputs": [],
   "source": [
    "@rt(\"/\")\n",
    "def get(): return Redirect('/contacts')\n",
    "\n",
    "\n",
    "@rt(\"/contacts/{id:int}\")\n",
    "def get(id:int): return view_contact_modal(contacts[id])\n",
    "\n",
    "@rt(\"/contacts\")\n",
    "def get(q:str=None):\n",
    "    search = Form(\n",
    "        DivHStacked(\n",
    "            Input(name='q', value=q, placeholder='Search contacts...',\n",
    "                cls='w-full md:w-2/3 lg:w-1/2',\n",
    "                hx_get='/contacts/search',\n",
    "                hx_trigger='keyup changed delay:500ms',\n",
    "                hx_target='#contacts-table',\n",
    "                hx_include='[name=\"q\"]'),\n",
    "            Button(\"Search\", type='submit')\n",
    "       ),\n",
    "       cls='mt-8'\n",
    "    )\n",
    "    return Container(page_heading, search, contacts_table(q), Div(id='modal-container'))\n",
    "\n",
    "@rt(\"/contacts/search\")\n",
    "def get(q: str = ''): return contacts_table(q)"
   ]
  },
  {
   "cell_type": "code",
   "execution_count": 16,
   "id": "f78c995c-6341-4eda-9bc8-0035c214f0c7",
   "metadata": {},
   "outputs": [],
   "source": [
    "server.stop()"
   ]
  },
  {
   "cell_type": "code",
   "execution_count": 17,
   "id": "d20edf1c-774a-46f3-a2c5-1a3207ce9e88",
   "metadata": {
    "scrolled": true
   },
   "outputs": [
    {
     "data": {
      "text/html": [
       "\n",
       "<script>\n",
       "document.body.addEventListener('htmx:configRequest', (event) => {\n",
       "    if(event.detail.path.includes('://')) return;\n",
       "    htmx.config.selfRequestsOnly=false;\n",
       "    event.detail.path = `${location.protocol}//${location.hostname}:8000${event.detail.path}`;\n",
       "});\n",
       "</script>"
      ],
      "text/plain": [
       "<IPython.core.display.HTML object>"
      ]
     },
     "metadata": {},
     "output_type": "display_data"
    }
   ],
   "source": [
    "server = JupyUvi(app)"
   ]
  },
  {
   "cell_type": "code",
   "execution_count": 18,
   "id": "b6138ab1-18d2-4f2a-bd8a-6d3577b81f32",
   "metadata": {
    "scrolled": true
   },
   "outputs": [
    {
     "data": {
      "text/html": [
       "<iframe src=\"http://localhost:8000\" style=\"width: 100%; height: auto; border: none;\" onload=\"{\n",
       "        let frame = this;\n",
       "        window.addEventListener('message', function(e) {\n",
       "            if (e.source !== frame.contentWindow) return; // Only proceed if the message is from this iframe\n",
       "            if (e.data.height) frame.style.height = (e.data.height+1) + 'px';\n",
       "        }, false);\n",
       "    }\" allow=\"accelerometer; autoplay; camera; clipboard-read; clipboard-write; display-capture; encrypted-media; fullscreen; gamepad; geolocation; gyroscope; hid; identity-credentials-get; idle-detection; magnetometer; microphone; midi; payment; picture-in-picture; publickey-credentials-get; screen-wake-lock; serial; usb; web-share; xr-spatial-tracking\"></iframe> "
      ],
      "text/plain": [
       "<IPython.core.display.HTML object>"
      ]
     },
     "execution_count": 18,
     "metadata": {},
     "output_type": "execute_result"
    }
   ],
   "source": [
    "HTMX()"
   ]
  },
  {
   "cell_type": "code",
   "execution_count": null,
   "id": "0aa93e70-7bc9-4465-b773-17b8e6311fc3",
   "metadata": {},
   "outputs": [],
   "source": [
    "# running at http://localhost:8000/"
   ]
  },
  {
   "cell_type": "code",
   "execution_count": null,
   "id": "2473e8f5-ad4e-4087-8c96-d0a339cb11a5",
   "metadata": {},
   "outputs": [],
   "source": []
  },
  {
   "cell_type": "code",
   "execution_count": null,
   "id": "d094cf6d-83d1-47a0-bbed-ec81e744501b",
   "metadata": {},
   "outputs": [],
   "source": []
  },
  {
   "cell_type": "code",
   "execution_count": null,
   "id": "b1940301-16f4-4631-b688-25839b3ae381",
   "metadata": {},
   "outputs": [],
   "source": []
  }
 ],
 "metadata": {
  "kernelspec": {
   "display_name": "Python 3 (ipykernel)",
   "language": "python",
   "name": "python3"
  },
  "language_info": {
   "codemirror_mode": {
    "name": "ipython",
    "version": 3
   },
   "file_extension": ".py",
   "mimetype": "text/x-python",
   "name": "python",
   "nbconvert_exporter": "python",
   "pygments_lexer": "ipython3",
   "version": "3.12.8"
  }
 },
 "nbformat": 4,
 "nbformat_minor": 5
}
