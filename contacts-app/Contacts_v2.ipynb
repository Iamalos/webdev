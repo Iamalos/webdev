{
 "cells": [
  {
   "cell_type": "markdown",
   "id": "067dc1e3-682f-4ce7-ab2b-3e4338b9dacf",
   "metadata": {},
   "source": [
    "## Contacts App\n",
    "> Following [Hypermedia Systems book](https://hypermedia.systems)"
   ]
  },
  {
   "cell_type": "code",
   "execution_count": 1,
   "id": "1b618fc3-44b3-4895-9c29-8b0ac8dd66b1",
   "metadata": {},
   "outputs": [],
   "source": [
    "#| default_exp contacts"
   ]
  },
  {
   "cell_type": "code",
   "execution_count": 2,
   "id": "8f4ab25b-6393-4f28-887b-fb71703425d8",
   "metadata": {},
   "outputs": [],
   "source": [
    "#| export\n",
    "from fasthtml.common import *\n",
    "from fasthtml.jupyter import JupyUvi, HTMX\n",
    "from monsterui.all import *\n",
    "import json"
   ]
  },
  {
   "cell_type": "code",
   "execution_count": 3,
   "id": "f7f6a024-ce9e-4122-8b4a-6de11ab9883b",
   "metadata": {},
   "outputs": [],
   "source": [
    "#| export\n",
    "app,rt,contacts,Contact = fast_app(\"data/contacts.db\",hdrs=Theme.blue.headers(),\n",
    "                                    id=int, first=str, last=str, phone=str, email=str, errors=str,\n",
    "                                    pk=\"id\", live=True)"
   ]
  },
  {
   "cell_type": "code",
   "execution_count": 4,
   "id": "ff5c09b1-22ca-4604-997b-62a08f8d9ea6",
   "metadata": {},
   "outputs": [],
   "source": [
    "#| export\n",
    "if not contacts(): \n",
    "    with open(\"contacts.json\",\"r\") as f: data = json.load(f)\n",
    "    contacts.insert_all(data)"
   ]
  },
  {
   "cell_type": "markdown",
   "id": "8ec8c456-cffd-4b60-9b33-0e57d70e6d33",
   "metadata": {},
   "source": [
    "### Table view"
   ]
  },
  {
   "cell_type": "code",
   "execution_count": 5,
   "id": "00efc52d-0832-45b5-a9e2-02add7276d00",
   "metadata": {},
   "outputs": [],
   "source": [
    "#| export\n",
    "def header_render(col):\n",
    "    \"\"\"Render header for a table\"\"\"\n",
    "    return Th(col.title() if col != \"actions\" else \"\", expand=True)\n",
    "\n",
    "def action_buttons(contact):\n",
    "    \"\"\"Add buttons to view and edit contact\"\"\"\n",
    "    return DivHStacked(\n",
    "        Button(UkIcon(\"eye\", cls=\"mr-2\"), \"View\", cls=ButtonT.ghost, hx_get=f'/contacts/{contact.id}', hx_target='#modal-container', hx_swap=\"innerHTML\"),\n",
    "        Button(UkIcon(\"pencil\", cls=\"mr-2\"),\"Edit\", cls=ButtonT.ghost, hx_get=f'/contacts/{contact.id}/edit')\n",
    "    )\n",
    "\n",
    "def contacts_table(q=None):\n",
    "    \"\"\"Create a table with contacts applying a filter is query was provided\"\"\"\n",
    "    rows = filter_contacts(q)\n",
    "    return Table(\n",
    "        Thead(\n",
    "            Tr(*[Th(col) for col in [\"First\", \"Last\", \"Phone\", \"Email\", \"Actions\"]])\n",
    "        ),\n",
    "        Tbody(\n",
    "            *[Tr(\n",
    "                Td(c.first or \"\"),\n",
    "                Td(c.last or \"\"),\n",
    "                Td(c.phone or \"\"),\n",
    "                Td(c.email or \"\"),\n",
    "                Td(action_buttons(c))\n",
    "            ) for c in rows]\n",
    "        ),\n",
    "        cls=(TableT.hover, TableT.divider, TableT.responsive),\n",
    "        id=\"contacts-table\"\n",
    "    )\n",
    "\n",
    "def filter_contacts(q=None):\n",
    "    \"\"\"Filter contacts that have `q` in first name, last name or email\"\"\"\n",
    "    if not q: return contacts(order_by=\"id\")\n",
    "    q = q.lower()\n",
    "    return [o for o in contacts(order_by=\"id\")\n",
    "            if q in (o.first or \"\").lower()\n",
    "            or q in (o.last or \"\").lower()\n",
    "            or q in (o.email or \"\").lower()]"
   ]
  },
  {
   "cell_type": "markdown",
   "id": "716a10ab-91e7-4bc6-beb8-931c1b001568",
   "metadata": {},
   "source": [
    "### Detail view"
   ]
  },
  {
   "cell_type": "code",
   "execution_count": 6,
   "id": "07a43d06-b9b9-422d-a617-dd2330cd68fb",
   "metadata": {},
   "outputs": [],
   "source": [
    "#| export\n",
    "def view_contact_modal(contact):\n",
    "    \"\"\"Detail view for a contact\"\"\"\n",
    "    return Modal(\n",
    "        ModalBody(\n",
    "            DivVStacked(\n",
    "                DivHStacked(Strong(\"First Name:\"), P(contact.first or \"-\")),\n",
    "                DivHStacked(Strong(\"Last Name:\"), P(contact.last or \"-\")),\n",
    "                DivHStacked(Strong(\"Phone:\"), P(contact.phone or \"-\")),\n",
    "                DivHStacked(Strong(\"Email:\"), P(contact.email or \"-\")),\n",
    "                cls=\"space-y-4\"\n",
    "            )\n",
    "        ),\n",
    "        header = ModalHeader(H3(\"Contact Details\")),\n",
    "        footer = ModalCloseButton(\"Close\", cls=ButtonT.primary),\n",
    "        id = \"contact-modal\",\n",
    "        open=True  # This ensures the modal opens automatically\n",
    "    )"
   ]
  },
  {
   "cell_type": "markdown",
   "id": "48772f8b-4796-4591-94e0-f3bfa2c88cdf",
   "metadata": {},
   "source": [
    "### New Contacts"
   ]
  },
  {
   "cell_type": "code",
   "execution_count": 7,
   "id": "9a4ec12b-030b-4301-8f3b-fa68f5ef9f4b",
   "metadata": {},
   "outputs": [
    {
     "data": {
      "text/plain": [
       "{}"
      ]
     },
     "execution_count": 7,
     "metadata": {},
     "output_type": "execute_result"
    }
   ],
   "source": [
    "json.loads(contacts()[0].errors)"
   ]
  },
  {
   "cell_type": "code",
   "execution_count": 8,
   "id": "d1784def-a144-4451-9aaf-00b50685d370",
   "metadata": {
    "editable": true,
    "slideshow": {
     "slide_type": ""
    },
    "tags": []
   },
   "outputs": [],
   "source": [
    "#| export\n",
    "def contact_form(contact=None, action=\"/contacts/create\", errors=None):\n",
    "    \"\"\"Reusable form that works both for new and edit\"\"\"\n",
    "\n",
    "    # parse errors if they exist\n",
    "    errors = json.loads(contact.errors) if contact else {}\n",
    "\n",
    "    return Form(\n",
    "        Grid(\n",
    "            Div(\n",
    "                LabelInput(\"First Name\", id=\"first\", placeholder=\"First Name\", value=contact.first if contact else \"\"),\n",
    "                P(errors.get(\"first\", \"\"), cls=\"text-error text-sm mt-1\") if \"first\" in errors else None),\n",
    "            Div(\n",
    "                LabelInput(\"Last Name\", id=\"last\", placeholder=\"Last Name\", value=contact.last if contact else \"\")),\n",
    "            cols=2),\n",
    "        Grid(\n",
    "            Div(\n",
    "                LabelInput(\"Phone\", id=\"phone\", placeholder='Phone', value=contact.phone if contact else \"\")),\n",
    "            Div(\n",
    "                LabelInput(\"Email\", id=\"email\", placeholder='Email', value=contact.email if contact else \"\"),\n",
    "                P(errors.get(\"email\",\"\"), cls=\"text-error text-sm mt-1\") if \"email\" in errors else None),\n",
    "            cols=2),\n",
    "        DivRAligned(\n",
    "            ModalCloseButton(\"Cancel\", cls=ButtonT.ghost),\n",
    "            Button(\"Save\", cls=ButtonT.primary, type=\"submit\")),\n",
    "        hx_post=action,\n",
    "        hx_target=\"#modal-container\"\n",
    "    )\n",
    "\n",
    "@rt(\"/contacts/new\")\n",
    "def get():\n",
    "    \"\"\"Create a modal for adding a contact\"\"\"\n",
    "    return Modal(\n",
    "        contact_form(),\n",
    "        header=ModalHeader(H3(\"Add Contact\")),\n",
    "        id=\"contact-modal\",\n",
    "        open=True\n",
    "    )\n",
    "\n",
    "@rt(\"/dismiss-toast\")\n",
    "def get(): return Div(id=\"success-toast\")  \n",
    "\n",
    "#Try routing to /new as in the book\n",
    "@rt(\"/contacts/create\")\n",
    "def post(contact: Contact):\n",
    "    \"\"\"Create a new contact, show a success toast and update contacts table\"\"\"\n",
    "\n",
    "    errors = {}\n",
    "    if not contact.first: errors[\"first\"] = \"First name is required\"\n",
    "    if not contact.email: errors[\"email\"] = \"Email is required\"\n",
    "    elif any(c.email == contact.email for c in contacts()): errors[\"email\"] = \"Email already exists\" \n",
    "    print(errors)\n",
    "\n",
    "    if errors: \n",
    "        contact.errors = json.dumps(errors)\n",
    "        return Modal(contact_form(contact, '/contacts/create'), header=ModalHeader(H3(\"Add Contact\")), id=\"contact-modal\", open=True)\n",
    "\n",
    "    # if validation passes, insert the contact\n",
    "    contacts.insert(contact)\n",
    "\n",
    "    # create an out-of-band replacement for the contacts table\n",
    "    updated_table = Div(contacts_table(),id=\"contacts-table\", hx_swap_oob=\"true\")\n",
    "\n",
    "    # Create a toast notification that appears in the center of the screen\n",
    "    success_toast = Toast(\n",
    "        DivLAligned(UkIcon(\"check-circle\", cls='ml-2 text-success'), Span(\"Contact added successfully!\")),\n",
    "        id=\"success-toast\", alert_cls=AlertT.success, cls=(ToastHT.center, ToastVT.middle), hx_swap_oob=\"true\",\n",
    "        hx_get=\"/dismiss-toast\", hx_trigger=\"load delay:3s\", hx_target=\"#success-toast\")\n",
    "    \n",
    "    # Return both components\n",
    "    return Div(updated_table, success_toast)"
   ]
  },
  {
   "cell_type": "code",
   "execution_count": 9,
   "id": "16af06a3-17d7-4578-915b-89aa228e5b78",
   "metadata": {},
   "outputs": [],
   "source": [
    "#| export\n",
    "@rt(\"/\")\n",
    "def get(): return Redirect(\"/contacts\")\n",
    "\n",
    "@rt(\"/contacts/{id:int}\")\n",
    "def get(id:int): return view_contact_modal(contacts[id])\n",
    "\n",
    "\n",
    "@rt(\"/contacts\")\n",
    "def get(q:str=None):\n",
    "    search = Form(\n",
    "        DivHStacked(\n",
    "            Input(name=\"q\", value=q, placeholder=\"Search contacts...\", cls=\"w-full md:w-2/3 lg:w-1/2\", hx_get=\"/contacts/search\",\n",
    "                  hx_trigger=\"keyup changed delay:500ms\", hx_target=\"#contacts-table\", hx_include='[name=\"q\"]'),\n",
    "            Button(\"Search\", type=\"submit\")\n",
    "       ),\n",
    "       cls=\"mt-8\"\n",
    "    )\n",
    "    return Container(page_heading, search, contacts_table(q), add_button, Div(id=\"modal-container\"), Div(id=\"success-toast\"))\n",
    "\n",
    "@rt(\"/contacts/search\")\n",
    "def get(q: str = ''): return contacts_table(q)"
   ]
  },
  {
   "cell_type": "markdown",
   "id": "6348c823-09f2-40f1-9078-452de48b3931",
   "metadata": {},
   "source": [
    "### Components"
   ]
  },
  {
   "cell_type": "code",
   "execution_count": 10,
   "id": "594c71e4-368a-49b5-aa4d-d3bceff69b9f",
   "metadata": {},
   "outputs": [],
   "source": [
    "#| export\n",
    "page_heading = Div(cls=\"space-y-2\")(H1(\"Contacts\"), P(\"Manage your contacts!\", cls=TextPresets.muted_sm))\n",
    "\n",
    "add_button = DivLAligned(\n",
    "    Button(UkIcon(\"plus-circle\", cls=\"mr-2\"), \"Add Contact\", cls=ButtonT.primary, hx_get=\"/contacts/new\", hx_target=\"#modal-container\"),\n",
    "    cls=\"mb-4 mt-4\"\n",
    ")\n"
   ]
  },
  {
   "cell_type": "markdown",
   "id": "36dc3f5b-9a98-4a02-a3b2-6b54c4f5189e",
   "metadata": {},
   "source": [
    "### Support functions"
   ]
  },
  {
   "cell_type": "code",
   "execution_count": 11,
   "id": "e9f7cee8-81b0-4375-bf58-24f74b66af21",
   "metadata": {},
   "outputs": [],
   "source": [
    "#contacts.delete_where(\"id>=20\")\n",
    "# contacts()"
   ]
  },
  {
   "cell_type": "code",
   "execution_count": 92,
   "id": "f78c995c-6341-4eda-9bc8-0035c214f0c7",
   "metadata": {},
   "outputs": [],
   "source": [
    "server.stop()"
   ]
  },
  {
   "cell_type": "code",
   "execution_count": 12,
   "id": "d20edf1c-774a-46f3-a2c5-1a3207ce9e88",
   "metadata": {
    "scrolled": true
   },
   "outputs": [
    {
     "data": {
      "text/html": [
       "\n",
       "<script>\n",
       "document.body.addEventListener('htmx:configRequest', (event) => {\n",
       "    if(event.detail.path.includes('://')) return;\n",
       "    htmx.config.selfRequestsOnly=false;\n",
       "    event.detail.path = `${location.protocol}//${location.hostname}:8000${event.detail.path}`;\n",
       "});\n",
       "</script>"
      ],
      "text/plain": [
       "<IPython.core.display.HTML object>"
      ]
     },
     "metadata": {},
     "output_type": "display_data"
    }
   ],
   "source": [
    "server = JupyUvi(app)"
   ]
  },
  {
   "cell_type": "code",
   "execution_count": 13,
   "id": "b6138ab1-18d2-4f2a-bd8a-6d3577b81f32",
   "metadata": {
    "scrolled": true
   },
   "outputs": [
    {
     "data": {
      "text/html": [
       "<iframe src=\"http://localhost:8000\" style=\"width: 100%; height: auto; border: none;\" onload=\"{\n",
       "        let frame = this;\n",
       "        window.addEventListener('message', function(e) {\n",
       "            if (e.source !== frame.contentWindow) return; // Only proceed if the message is from this iframe\n",
       "            if (e.data.height) frame.style.height = (e.data.height+1) + 'px';\n",
       "        }, false);\n",
       "    }\" allow=\"accelerometer; autoplay; camera; clipboard-read; clipboard-write; display-capture; encrypted-media; fullscreen; gamepad; geolocation; gyroscope; hid; identity-credentials-get; idle-detection; magnetometer; microphone; midi; payment; picture-in-picture; publickey-credentials-get; screen-wake-lock; serial; usb; web-share; xr-spatial-tracking\"></iframe> "
      ],
      "text/plain": [
       "<IPython.core.display.HTML object>"
      ]
     },
     "execution_count": 13,
     "metadata": {},
     "output_type": "execute_result"
    },
    {
     "name": "stdout",
     "output_type": "stream",
     "text": [
      "{'first': 'First name is required', 'email': 'Email is required'}\n"
     ]
    }
   ],
   "source": [
    "HTMX()"
   ]
  },
  {
   "cell_type": "code",
   "execution_count": 14,
   "id": "0aa93e70-7bc9-4465-b773-17b8e6311fc3",
   "metadata": {},
   "outputs": [],
   "source": [
    "# running at http://localhost:8000/"
   ]
  },
  {
   "cell_type": "code",
   "execution_count": 17,
   "id": "2473e8f5-ad4e-4087-8c96-d0a339cb11a5",
   "metadata": {},
   "outputs": [],
   "source": [
    "from nbdev.export import nb_export\n",
    "nb_export('Contacts_v2.ipynb')"
   ]
  },
  {
   "cell_type": "code",
   "execution_count": null,
   "id": "0eab52df-ed86-4467-8392-021fede50010",
   "metadata": {},
   "outputs": [],
   "source": []
  }
 ],
 "metadata": {
  "kernelspec": {
   "display_name": "Python 3 (ipykernel)",
   "language": "python",
   "name": "python3"
  },
  "language_info": {
   "codemirror_mode": {
    "name": "ipython",
    "version": 3
   },
   "file_extension": ".py",
   "mimetype": "text/x-python",
   "name": "python",
   "nbconvert_exporter": "python",
   "pygments_lexer": "ipython3",
   "version": "3.12.8"
  }
 },
 "nbformat": 4,
 "nbformat_minor": 5
}
