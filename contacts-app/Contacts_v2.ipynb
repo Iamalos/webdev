{
 "cells": [
  {
   "cell_type": "markdown",
   "id": "067dc1e3-682f-4ce7-ab2b-3e4338b9dacf",
   "metadata": {},
   "source": [
    "## Contacts App\n",
    "> Following [Hypermedia Systems book](https://hypermedia.systems)"
   ]
  },
  {
   "cell_type": "code",
   "execution_count": 1,
   "id": "1b618fc3-44b3-4895-9c29-8b0ac8dd66b1",
   "metadata": {},
   "outputs": [],
   "source": [
    "#| default_exp contacts"
   ]
  },
  {
   "cell_type": "code",
   "execution_count": 2,
   "id": "8f4ab25b-6393-4f28-887b-fb71703425d8",
   "metadata": {},
   "outputs": [],
   "source": [
    "#| export\n",
    "from fasthtml.common import *\n",
    "from fasthtml.jupyter import JupyUvi, HTMX\n",
    "from monsterui.all import *\n",
    "import json"
   ]
  },
  {
   "cell_type": "code",
   "execution_count": 3,
   "id": "f7f6a024-ce9e-4122-8b4a-6de11ab9883b",
   "metadata": {},
   "outputs": [],
   "source": [
    "#| export\n",
    "app,rt,contacts,Contact = fast_app(\"data/contacts.db\",hdrs=Theme.blue.headers(),\n",
    "                                    id=int, first=str, last=str, phone=str, email=str, errors=str,\n",
    "                                    pk=\"id\", live=True)"
   ]
  },
  {
   "cell_type": "code",
   "execution_count": 4,
   "id": "ff5c09b1-22ca-4604-997b-62a08f8d9ea6",
   "metadata": {},
   "outputs": [],
   "source": [
    "#| export\n",
    "if not contacts(): \n",
    "    with open(\"contacts.json\",\"r\") as f: data = json.load(f)\n",
    "    contacts.insert_all(data)"
   ]
  },
  {
   "cell_type": "markdown",
   "id": "8ec8c456-cffd-4b60-9b33-0e57d70e6d33",
   "metadata": {},
   "source": [
    "### Table view"
   ]
  },
  {
   "cell_type": "code",
   "execution_count": 5,
   "id": "00efc52d-0832-45b5-a9e2-02add7276d00",
   "metadata": {},
   "outputs": [],
   "source": [
    "#| export\n",
    "def header_render(col):\n",
    "    \"\"\"Render header for a table\"\"\"\n",
    "    return Th(col.title() if col != \"actions\" else \"\", expand=True)\n",
    "\n",
    "def action_buttons(contact):\n",
    "    \"\"\"Add buttons to view and edit contact\"\"\"\n",
    "    return DivHStacked(\n",
    "        Button(UkIcon(\"eye\", cls=\"mr-2\"), \"View\", cls=ButtonT.ghost, hx_get=f'/contacts/{contact.id}', hx_target='#modal-container', hx_swap=\"innerHTML\"),\n",
    "        Button(UkIcon(\"pencil\", cls=\"mr-2\"),\"Edit\", cls=ButtonT.ghost, hx_get=f'/contacts/{contact.id}/edit')\n",
    "    )\n",
    "\n",
    "def contacts_table(q=None):\n",
    "    \"\"\"Create a table with contacts applying a filter is query was provided\"\"\"\n",
    "    rows = filter_contacts(q)\n",
    "    return Table(\n",
    "        Thead(\n",
    "            Tr(*[Th(col) for col in [\"First\", \"Last\", \"Phone\", \"Email\", \"Actions\"]])\n",
    "        ),\n",
    "        Tbody(\n",
    "            *[Tr(\n",
    "                Td(c.first or \"\"),\n",
    "                Td(c.last or \"\"),\n",
    "                Td(c.phone or \"\"),\n",
    "                Td(c.email or \"\"),\n",
    "                Td(action_buttons(c))\n",
    "            ) for c in rows]\n",
    "        ),\n",
    "        cls=(TableT.hover, TableT.divider, TableT.responsive),\n",
    "        id=\"contacts-table\"\n",
    "    )\n",
    "\n",
    "def filter_contacts(q=None):\n",
    "    \"\"\"Filter contacts that have `q` in first name, last name or email\"\"\"\n",
    "    if not q: return contacts(order_by=\"id\")\n",
    "    q = q.lower()\n",
    "    return [o for o in contacts(order_by=\"id\")\n",
    "            if q in (o.first or \"\").lower()\n",
    "            or q in (o.last or \"\").lower()\n",
    "            or q in (o.email or \"\").lower()]"
   ]
  },
  {
   "cell_type": "markdown",
   "id": "716a10ab-91e7-4bc6-beb8-931c1b001568",
   "metadata": {},
   "source": [
    "### Detail view"
   ]
  },
  {
   "cell_type": "code",
   "execution_count": 6,
   "id": "07a43d06-b9b9-422d-a617-dd2330cd68fb",
   "metadata": {},
   "outputs": [],
   "source": [
    "#| export\n",
    "def view_contact_modal(contact):\n",
    "    \"\"\"Detail view for a contact\"\"\"\n",
    "    return Modal(\n",
    "        ModalBody(\n",
    "            DivVStacked(\n",
    "                DivHStacked(Strong(\"First Name:\"), P(contact.first or \"-\")),\n",
    "                DivHStacked(Strong(\"Last Name:\"), P(contact.last or \"-\")),\n",
    "                DivHStacked(Strong(\"Phone:\"), P(contact.phone or \"-\")),\n",
    "                DivHStacked(Strong(\"Email:\"), P(contact.email or \"-\")),\n",
    "                cls=\"space-y-4\"\n",
    "            )\n",
    "        ),\n",
    "        header = ModalHeader(H3(\"Contact Details\")),\n",
    "        footer = ModalCloseButton(\"Close\", cls=ButtonT.primary),\n",
    "        id = \"contact-modal\",\n",
    "        open=True  # This ensures the modal opens automatically\n",
    "    )"
   ]
  },
  {
   "cell_type": "markdown",
   "id": "48772f8b-4796-4591-94e0-f3bfa2c88cdf",
   "metadata": {},
   "source": [
    "### New Contacts"
   ]
  },
  {
   "cell_type": "code",
   "execution_count": 7,
   "id": "d1784def-a144-4451-9aaf-00b50685d370",
   "metadata": {},
   "outputs": [],
   "source": [
    "#| export\n",
    "def contact_form(contact=None, action=\"/contacts/create\"):\n",
    "    \"\"\"Reusable form that works both for new and edit\"\"\"\n",
    "    return Form(\n",
    "        Grid(\n",
    "            LabelInput(\"First Name\", id=\"first\", value=contact.first if contact else \"\"),\n",
    "            LabelInput(\"Last Name\", id=\"last\", value=contact.last if contact else \"\"),\n",
    "            cols=2\n",
    "        ),\n",
    "        Grid(\n",
    "            LabelInput(\"Phone\", id=\"phone\", value=contact.phone if contact else \"\"),\n",
    "            LabelInput(\"Email\", id=\"email\", value=contact.email if contact else \"\"),\n",
    "            cols=2\n",
    "        ),\n",
    "        DivRAligned(\n",
    "            ModalCloseButton(\"Cancel\", cls=ButtonT.ghost),\n",
    "            Button(\"Save\", cls=ButtonT.primary, type=\"submit\")\n",
    "        ),\n",
    "        hx_post=action,\n",
    "        hx_target=\"#modal-container\"\n",
    "    )\n",
    "\n",
    "@rt(\"/contacts/new\")\n",
    "def get():\n",
    "    \"\"\"Create a modal for adding a contact\"\"\"\n",
    "    return Modal(\n",
    "        contact_form(),\n",
    "        header=ModalHeader(H3(\"Add Contact\")),\n",
    "        id=\"contact-modal\",\n",
    "        open=True\n",
    "    )\n",
    "\n",
    "@rt(\"/dismiss-toast\")\n",
    "def get(): return Div(id=\"success-toast\")  \n",
    "\n",
    "@rt(\"/contacts/create\")\n",
    "def post(first:str, last:str, phone:str, email:str):\n",
    "    \"\"\"Create a new contact, show a success toast and update table with contacts\"\"\"\n",
    "    new_contact = Contact(first=first, last=last, phone=phone, email=email)\n",
    "    contacts.insert(new_contact)\n",
    "\n",
    "    # create an out-of-band replacement for the contacts table\n",
    "    updated_table = Div(\n",
    "        contacts_table(),  # Get the refreshed table\n",
    "        id=\"contacts-table\",\n",
    "        hx_swap_oob=\"true\"  # Mark this for out-of-band swap\n",
    "    )\n",
    "\n",
    "    # Create a toast notification that appears in the center of the screen\n",
    "    success_toast = Toast(\n",
    "        DivLAligned(\n",
    "            UkIcon(\"check-circle\", cls='ml-2 text-success'),\n",
    "            Span(\"Contact added successfully!\")\n",
    "        ),\n",
    "        id=\"success-toast\",\n",
    "        alert_cls=AlertT.success,\n",
    "        cls=(ToastHT.center, ToastVT.middle),\n",
    "        hx_swap_oob=\"true\",\n",
    "        hx_get=\"/dismiss-toast\",\n",
    "        hx_trigger=\"load delay:3s\",\n",
    "        hx_target=\"#success-toast\"\n",
    "    )\n",
    "    \n",
    "    # Return both components\n",
    "    return Div(\n",
    "        updated_table,\n",
    "        success_toast\n",
    "    )"
   ]
  },
  {
   "cell_type": "code",
   "execution_count": 8,
   "id": "16af06a3-17d7-4578-915b-89aa228e5b78",
   "metadata": {},
   "outputs": [],
   "source": [
    "#| export\n",
    "@rt(\"/\")\n",
    "def get(): return Redirect(\"/contacts\")\n",
    "\n",
    "@rt(\"/contacts/{id:int}\")\n",
    "def get(id:int): return view_contact_modal(contacts[id])\n",
    "\n",
    "\n",
    "@rt(\"/contacts\")\n",
    "def get(q:str=None):\n",
    "    search = Form(\n",
    "        DivHStacked(\n",
    "            Input(name=\"q\", value=q, placeholder=\"Search contacts...\",\n",
    "                cls=\"w-full md:w-2/3 lg:w-1/2\",\n",
    "                hx_get=\"/contacts/search\",\n",
    "                hx_trigger=\"keyup changed delay:500ms\",\n",
    "                hx_target=\"#contacts-table\",\n",
    "                hx_include='[name=\"q\"]'),\n",
    "            Button(\"Search\", type=\"submit\")\n",
    "       ),\n",
    "       cls=\"mt-8\"\n",
    "    )\n",
    "    return Container(page_heading, search, contacts_table(q),\n",
    "                     add_button, Div(id=\"modal-container\"), Div(id=\"success-toast\"))\n",
    "\n",
    "@rt(\"/contacts/search\")\n",
    "def get(q: str = ''): return contacts_table(q)"
   ]
  },
  {
   "cell_type": "markdown",
   "id": "6348c823-09f2-40f1-9078-452de48b3931",
   "metadata": {},
   "source": [
    "### Components"
   ]
  },
  {
   "cell_type": "code",
   "execution_count": 9,
   "id": "594c71e4-368a-49b5-aa4d-d3bceff69b9f",
   "metadata": {},
   "outputs": [],
   "source": [
    "#| export\n",
    "page_heading = Div(cls=\"space-y-2\")(H1(\"Contacts\"), P(\"Manage your contacts!\", cls=TextPresets.muted_sm))\n",
    "\n",
    "add_button = DivLAligned(\n",
    "    Button(\n",
    "        UkIcon(\"plus-circle\", cls=\"mr-2\"),\n",
    "        \"Add Contact\",\n",
    "        cls=ButtonT.primary,\n",
    "        hx_get=\"/contacts/new\",\n",
    "        hx_target=\"#modal-container\"\n",
    "    ),\n",
    "    cls=\"mb-4 mt-4\"\n",
    ")\n"
   ]
  },
  {
   "cell_type": "code",
   "execution_count": 10,
   "id": "e9f7cee8-81b0-4375-bf58-24f74b66af21",
   "metadata": {},
   "outputs": [],
   "source": [
    "# contacts.delete_where(\"id>=20\")\n",
    "# contacts()"
   ]
  },
  {
   "cell_type": "code",
   "execution_count": 11,
   "id": "f78c995c-6341-4eda-9bc8-0035c214f0c7",
   "metadata": {},
   "outputs": [],
   "source": [
    "server.stop()"
   ]
  },
  {
   "cell_type": "code",
   "execution_count": 12,
   "id": "d20edf1c-774a-46f3-a2c5-1a3207ce9e88",
   "metadata": {
    "scrolled": true
   },
   "outputs": [],
   "source": [
    "server = JupyUvi(app)"
   ]
  },
  {
   "cell_type": "code",
   "execution_count": 13,
   "id": "b6138ab1-18d2-4f2a-bd8a-6d3577b81f32",
   "metadata": {
    "scrolled": true
   },
   "outputs": [],
   "source": [
    "HTMX()"
   ]
  },
  {
   "cell_type": "code",
   "execution_count": 14,
   "id": "0aa93e70-7bc9-4465-b773-17b8e6311fc3",
   "metadata": {},
   "outputs": [],
   "source": [
    "# running at http://localhost:8000/"
   ]
  },
  {
   "cell_type": "code",
   "execution_count": 17,
   "id": "2473e8f5-ad4e-4087-8c96-d0a339cb11a5",
   "metadata": {},
   "outputs": [],
   "source": [
    "# from nbdev.export import nb_export\n",
    "# nb_export('Contacts_v2.ipynb')"
   ]
  },
  {
   "cell_type": "code",
   "execution_count": null,
   "id": "b1940301-16f4-4631-b688-25839b3ae381",
   "metadata": {},
   "outputs": [],
   "source": []
  }
 ],
 "metadata": {
  "kernelspec": {
   "display_name": "Python 3 (ipykernel)",
   "language": "python",
   "name": "python3"
  },
  "language_info": {
   "codemirror_mode": {
    "name": "ipython",
    "version": 3
   },
   "file_extension": ".py",
   "mimetype": "text/x-python",
   "name": "python",
   "nbconvert_exporter": "python",
   "pygments_lexer": "ipython3",
   "version": "3.12.8"
  }
 },
 "nbformat": 4,
 "nbformat_minor": 5
}
