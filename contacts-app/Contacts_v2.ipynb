{
 "cells": [
  {
   "cell_type": "markdown",
   "id": "067dc1e3-682f-4ce7-ab2b-3e4338b9dacf",
   "metadata": {},
   "source": [
    "## Contacts App\n",
    "> Following [Hypermedia Systems book](https://hypermedia.systems)"
   ]
  },
  {
   "cell_type": "code",
   "execution_count": 1,
   "id": "1b618fc3-44b3-4895-9c29-8b0ac8dd66b1",
   "metadata": {},
   "outputs": [],
   "source": [
    "#| default_exp contacts"
   ]
  },
  {
   "cell_type": "code",
   "execution_count": 2,
   "id": "8f4ab25b-6393-4f28-887b-fb71703425d8",
   "metadata": {},
   "outputs": [],
   "source": [
    "#| export\n",
    "from fasthtml.common import *\n",
    "from fasthtml.jupyter import JupyUvi, HTMX\n",
    "from monsterui.all import *\n",
    "import json"
   ]
  },
  {
   "cell_type": "code",
   "execution_count": 3,
   "id": "f7f6a024-ce9e-4122-8b4a-6de11ab9883b",
   "metadata": {},
   "outputs": [],
   "source": [
    "#| export\n",
    "app,rt,contacts,Contact = fast_app(\"data/contacts.db\",hdrs=Theme.blue.headers(),\n",
    "                                    id=int, first=str, last=str, phone=str, email=str, errors=str,\n",
    "                                    pk=\"id\", live=True)"
   ]
  },
  {
   "cell_type": "code",
   "execution_count": 4,
   "id": "ff5c09b1-22ca-4604-997b-62a08f8d9ea6",
   "metadata": {},
   "outputs": [],
   "source": [
    "#| export\n",
    "if not contacts(): \n",
    "    with open(\"contacts.json\",\"r\") as f: data = json.load(f)\n",
    "    contacts.insert_all(data)"
   ]
  },
  {
   "cell_type": "markdown",
   "id": "d6c026d0-c4c6-416a-be8e-72c1d1e4edbf",
   "metadata": {},
   "source": [
    "### Helper functions"
   ]
  },
  {
   "cell_type": "code",
   "execution_count": 5,
   "id": "00efc52d-0832-45b5-a9e2-02add7276d00",
   "metadata": {},
   "outputs": [],
   "source": [
    "#| export\n",
    "def filter_contacts(q=None):\n",
    "    \"\"\"Filter contacts that have `q` in first name, last name or email\"\"\"\n",
    "    if not q: return contacts(order_by=\"id\")\n",
    "    q = q.lower()\n",
    "    return [o for o in contacts(order_by=\"id\")\n",
    "            if q in (o.first or \"\").lower()\n",
    "            or q in (o.last or \"\").lower()\n",
    "            or q in (o.email or \"\").lower()]\n",
    "\n",
    "def contacts_table(q=None):\n",
    "    \"\"\"Create a table with contacts applying a filter is query was provided\"\"\"\n",
    "    rows = filter_contacts(q)\n",
    "    return Table(\n",
    "        Thead(\n",
    "            Tr(*[Th(col) for col in [\"First\", \"Last\", \"Phone\", \"Email\", \"Actions\"]])\n",
    "        ),\n",
    "        Tbody(\n",
    "            *[Tr(\n",
    "                Td(c.first or \"\"),\n",
    "                Td(c.last or \"\"),\n",
    "                Td(c.phone or \"\"),\n",
    "                Td(c.email or \"\"),\n",
    "                Td(action_buttons(c))\n",
    "            ) for c in rows]\n",
    "        ),\n",
    "        cls=(TableT.hover, TableT.divider, TableT.responsive),\n",
    "        id=\"contacts-table\")\n",
    "\n",
    "def action_buttons(contact):\n",
    "    \"\"\"Add buttons to view and edit contact\"\"\"\n",
    "    return DivHStacked(\n",
    "        Button(UkIcon(\"eye\", cls=\"mr-2\"), \"View\", cls=ButtonT.ghost, hx_get=f'/contacts/{contact.id}', hx_target='#modal-container'),\n",
    "        Button(UkIcon(\"pencil\", cls=\"mr-2\"),\"Edit\", cls=ButtonT.ghost, hx_get=f'/contacts/{contact.id}/edit', hx_target='#modal-container'))"
   ]
  },
  {
   "cell_type": "code",
   "execution_count": 6,
   "id": "c936a185-c288-4f27-b65d-3bc0c72340b6",
   "metadata": {},
   "outputs": [],
   "source": [
    "#| export\n",
    "def validate_contact(contact, # The contact object to validate\n",
    "                     id=None # Optional ID for existing contacts (to check email uniqueness)\n",
    "                    ):\n",
    "    \"\"\" Validates contact data and returns a dictionary of errors.\"\"\"\n",
    "    errors = {}\n",
    "    if not contact.first: errors[\"first\"] = \"First name is required\"\n",
    "    if not contact.email: errors[\"email\"] = \"Email is required\"\n",
    "    elif any(c.email == contact.email and (c.id != id) for c in contacts()): errors[\"email\"] = \"Email already exists\" \n",
    "    \n",
    "    # Additional validations could be added here:\n",
    "    # - Email format validation\n",
    "    # - Phone number format validation\n",
    "    # - Name length restrictions\n",
    "    # - etc.\n",
    "    return errors"
   ]
  },
  {
   "cell_type": "code",
   "execution_count": 7,
   "id": "b930fdc2-2157-47ba-82a9-6508ef025023",
   "metadata": {},
   "outputs": [],
   "source": [
    "#| export\n",
    "def handle_contact_save(contact, id=None):\n",
    "    \"\"\"Common logic for saving a contact (create or update)\"\"\"\n",
    "    errors = validate_contact(contact, id)\n",
    "\n",
    "    if errors: \n",
    "        contact.errors = json.dumps(errors)\n",
    "        # for some reason id dissapears FastHTML handles form submissions and data binding. \n",
    "        # When you submit a form, FastHTML creates a new Contact object using only the fields that were submitted in the form\n",
    "        if id is not None: contact.id = id\n",
    "        action = '/contacts/create' if id is None else f'/contacts/{id}/update'\n",
    "        return Modal(\n",
    "            contact_form(contact, action), \n",
    "            header=ModalHeader(H3(\"Edit Contact\" if id else \"Add Contact\")),\n",
    "            id=\"contact-modal\", open=True)\n",
    "\n",
    "    if id:\n",
    "        # Update existing contact\n",
    "        contact.id = id\n",
    "        contacts.update(contact)\n",
    "        message = \"Contact updated successfully!\"\n",
    "    else:\n",
    "        # Create new contact\n",
    "        contacts.insert(contact)\n",
    "        message = \"Contact added successfully!\"\n",
    "\n",
    "    # create an out-of-band replacement for the contacts table and success toast\n",
    "    updated_table = Div(contacts_table(),id=\"contacts-table\", hx_swap_oob=\"true\")\n",
    "    success_toast = create_toast(message)\n",
    "    \n",
    "    return Div(updated_table, success_toast)"
   ]
  },
  {
   "cell_type": "code",
   "execution_count": 8,
   "id": "6310375a-f0ac-4549-82d1-24c440af79f6",
   "metadata": {},
   "outputs": [],
   "source": [
    "#| export\n",
    "def contact_form(contact=None, action=\"/contacts/create\"):\n",
    "    \"\"\"Reusable form that works both for new and edit\"\"\"\n",
    "\n",
    "    # parse errors if they exist\n",
    "    errors = json.loads(contact.errors) if contact and contact.errors else {}\n",
    "    is_edit = (contact and hasattr(contact, \"id\") and contact.id) or (\"/update\" in action)\n",
    "    contact_id = contact.id if is_edit else None\n",
    "\n",
    "    delete_button = Button(\n",
    "        UkIcon(\"trash-2\", cls=(TextT.error, \"text-white mr-2\")), \"Delete\", cls=ButtonT.destructive, \n",
    "        hx_get=f\"/contacts/{contact.id}/confirm\", hx_target=\"#modal-container\"\n",
    "    ) if is_edit else None\n",
    "    \n",
    "    return Form(\n",
    "        Grid(\n",
    "            Div(\n",
    "                LabelInput(\"First Name\", id=\"first\", placeholder=\"First Name\", value=contact.first if contact else \"\"),\n",
    "                P(errors.get(\"first\", \"\"), cls=(TextT.error, TextT.sm,\"mt-1\")) if \"first\" in errors else None),\n",
    "            Div(\n",
    "                LabelInput(\"Last Name\", id=\"last\", placeholder=\"Last Name\", value=contact.last if contact else \"\")),\n",
    "            cols=2),\n",
    "        Grid(\n",
    "            Div(\n",
    "                LabelInput(\"Phone\", id=\"phone\", placeholder=\"Phone\", value=contact.phone if contact else \"\")),\n",
    "            Div(\n",
    "                LabelInput(\"Email\", id=\"email\", type=\"email\", placeholder=\"Email\", value=contact.email if contact else \"\",\n",
    "                           hx_post=\"/validate/email\", hx_trigger=\"blur\", hx_target=\"#email-error\", hx_include=\"this\",\n",
    "                           hx_vals=json.dumps({\"id\": contact_id}) if contact_id else None),\n",
    "                Div(P(errors.get(\"email\",\"\"), cls=(TextT.error, TextT.sm,\"mt-1\"))\n",
    "                    if \"email\" in errors else None, id=\"email-error\")),\n",
    "            cols=2),\n",
    "        \n",
    "        DivFullySpaced(\n",
    "            delete_button,\n",
    "            DivHStacked(\n",
    "                ModalCloseButton(\"Cancel\", cls=ButtonT.ghost),\n",
    "                Button(\"Save\", cls=ButtonT.primary, type=\"submit\"),\n",
    "                cls=\"space-x-2\"\n",
    "            )\n",
    "        ),\n",
    "        hx_post=action, hx_target=\"#modal-container\"\n",
    "    )"
   ]
  },
  {
   "cell_type": "code",
   "execution_count": 9,
   "id": "07a43d06-b9b9-422d-a617-dd2330cd68fb",
   "metadata": {},
   "outputs": [],
   "source": [
    "#| export\n",
    "def contact_detail(contact):\n",
    "    \"\"\"Detail view for a contact\"\"\"\n",
    "    return Modal(\n",
    "        ModalBody(\n",
    "            # Use a single centered container for the entire content\n",
    "            DivCentered(\n",
    "                H4(f\"{contact.first or ''} {contact.last or ''}\", cls=(TextT.bold, TextT.center, \"mb-6\")),\n",
    "                DivLAligned(UkIcon('phone', cls='mr-2 text-primary'), P(contact.phone or '-'), cls=\"mb-4 justify-center\"),\n",
    "                DivLAligned(UkIcon('mail', cls='mr-2 text-primary'), P(contact.email or '-'), cls=\"justify-center\"),\n",
    "                cls=\"items-center py-4\"\n",
    "            )\n",
    "        ),\n",
    "        header = ModalHeader(H3(\"Contact Details\")),\n",
    "        footer = DivFullySpaced(\n",
    "            ModalCloseButton(\"Close\", cls=ButtonT.primary),\n",
    "            Button(UkIcon(\"pencil\", cls=\"mr-2\"), \"Edit\", cls=ButtonT.primary, hx_get=f\"/contacts/{contact.id}/edit\", hx_target=\"#modal-container\")\n",
    "        ),    \n",
    "        id = \"contact-modal\",\n",
    "        open=True)"
   ]
  },
  {
   "cell_type": "code",
   "execution_count": 10,
   "id": "9b60df5d-5387-45c9-8472-8e6b44c877c9",
   "metadata": {},
   "outputs": [],
   "source": [
    "#| export \n",
    "def create_toast(msg, #  The message to display in the toast\n",
    "                 icon=\"check-circle\", # Name of the icon to display (from Lucide icons)\n",
    "                 alert_type=AlertT.success, # The type of alert (success, warning, error, info)\n",
    "                 position=(ToastHT.center, ToastVT.middle)): # Tuple of horizontal and vertical position classes\n",
    "    \"\"\"Creates a standardized toast notification configured for out-of-band swapping\"\"\"\n",
    "    icon_color = {\n",
    "        AlertT.success: TextT.success,\n",
    "        AlertT.warning: TextT.warning,\n",
    "        AlertT.error: TextT.error,\n",
    "        AlertT.info: TextT.info\n",
    "    }.get(alert_type, TextT.primary)\n",
    "\n",
    "    return Toast(\n",
    "        DivLAligned(UkIcon(icon,cls=f\"mr-2 {icon_color}\"), Span(msg)),\n",
    "        id=\"toast\", alert_cls=alert_type, cls=position, hx_swap_oob=\"true\", hx_get=\"/dismiss-toast\", hx_trigger=\"load delay:3s\", hx_target=\"#toast\")"
   ]
  },
  {
   "cell_type": "markdown",
   "id": "3c4ea506-08cd-425a-ab48-80b90017ea02",
   "metadata": {},
   "source": [
    "### Components"
   ]
  },
  {
   "cell_type": "code",
   "execution_count": 11,
   "id": "594c71e4-368a-49b5-aa4d-d3bceff69b9f",
   "metadata": {},
   "outputs": [],
   "source": [
    "#| export\n",
    "page_heading = Div(cls=\"space-y-2\")(H1(\"Contacts\"), P(\"Manage your contacts!\", cls=TextPresets.muted_sm))\n",
    "\n",
    "add_button = DivLAligned(\n",
    "    Button(UkIcon(\"plus-circle\", cls=\"mr-2\"), \"Add Contact\", cls=ButtonT.primary, hx_get=\"/contacts/new\", hx_target=\"#modal-container\"),\n",
    "    cls=\"mb-4 mt-4\")"
   ]
  },
  {
   "cell_type": "markdown",
   "id": "8ec8c456-cffd-4b60-9b33-0e57d70e6d33",
   "metadata": {},
   "source": [
    "### Table view"
   ]
  },
  {
   "cell_type": "code",
   "execution_count": 12,
   "id": "dd1c62e7-b72c-4659-aeb8-ebcb80376e13",
   "metadata": {},
   "outputs": [],
   "source": [
    "#| export\n",
    "@rt(\"/\")\n",
    "def get(): return Redirect(\"/contacts\")\n",
    "\n",
    "# We can also use htmx_post instrad of htmx_get and skip hx_include\n",
    "@rt(\"/contacts\")\n",
    "def get(q:str=None):\n",
    "    search = Form(\n",
    "        DivHStacked(\n",
    "            Input(name=\"q\", value=q, placeholder=\"Search contacts...\", cls=\"w-full md:w-2/3 lg:w-1/2\", hx_get=\"/contacts/search\",\n",
    "                  hx_trigger=\"keyup changed delay:500ms\", hx_target=\"#contacts-table\", hx_include='[name=\"q\"]'),\n",
    "            Button(\"Search\", type=\"submit\")),\n",
    "       cls=\"mt-8\")\n",
    "    return Container(page_heading, search, contacts_table(q), add_button, Div(id=\"modal-container\"), Div(id=\"toast\"))"
   ]
  },
  {
   "cell_type": "markdown",
   "id": "850ebc08-6da2-4c2e-9c6c-dbb723e5bde4",
   "metadata": {},
   "source": [
    "### Search contacts "
   ]
  },
  {
   "cell_type": "code",
   "execution_count": 13,
   "id": "375aecbc-ae33-4afe-b85b-0381c1d4f562",
   "metadata": {},
   "outputs": [],
   "source": [
    "#| export\n",
    "@rt(\"/contacts/search\")\n",
    "def get(q: str = ''): return contacts_table(q)"
   ]
  },
  {
   "cell_type": "markdown",
   "id": "6e8f7c06-8494-4bda-a521-300011c35c18",
   "metadata": {},
   "source": [
    "### Edit contacts"
   ]
  },
  {
   "cell_type": "code",
   "execution_count": 14,
   "id": "303bbd93-2b48-40d3-8f01-e2b514ce67c8",
   "metadata": {},
   "outputs": [],
   "source": [
    "#| export\n",
    "@rt(\"/contacts/{id:int}/edit\")\n",
    "def get(id:int):\n",
    "    contact=contacts[id]\n",
    "    \n",
    "    return Modal(\n",
    "        contact_form(contact, action=f\"/contacts/{id}/update\"),\n",
    "        header=ModalHeader(H3(\"Edit Contact\")),\n",
    "        id=\"contact-modal\",\n",
    "        open=True)"
   ]
  },
  {
   "cell_type": "code",
   "execution_count": 15,
   "id": "031a96ee-a9f9-42ee-91a2-9260f1848352",
   "metadata": {},
   "outputs": [],
   "source": [
    "#| export\n",
    "@rt(\"/contacts/{id:int}/update\")\n",
    "def post(id: int, contact: Contact):\n",
    "    return handle_contact_save(contact, id)"
   ]
  },
  {
   "cell_type": "markdown",
   "id": "48772f8b-4796-4591-94e0-f3bfa2c88cdf",
   "metadata": {},
   "source": [
    "### Add new contact"
   ]
  },
  {
   "cell_type": "code",
   "execution_count": 16,
   "id": "19e3141d-f34b-481d-8178-bf238e7b0b65",
   "metadata": {
    "editable": true,
    "slideshow": {
     "slide_type": ""
    },
    "tags": []
   },
   "outputs": [],
   "source": [
    "#| export\n",
    "@rt(\"/contacts/new\")\n",
    "def get():\n",
    "    \"\"\"Create a modal for adding a contact\"\"\"\n",
    "    return Modal(\n",
    "        contact_form(),\n",
    "        header=ModalHeader(H3(\"Add Contact\")),\n",
    "        id=\"contact-modal\",\n",
    "        open=True\n",
    "    )\n",
    "\n",
    "@rt(\"/dismiss-toast\")\n",
    "def get(): return Div(id=\"toast\")  "
   ]
  },
  {
   "cell_type": "code",
   "execution_count": 17,
   "id": "9bccf9cf-69a2-47b9-94e9-80b4bcc7fe3d",
   "metadata": {
    "editable": true,
    "slideshow": {
     "slide_type": ""
    },
    "tags": []
   },
   "outputs": [],
   "source": [
    "#| export\n",
    "#Try routing to /new as in the book\n",
    "\n",
    "@rt(\"/validate/email\")\n",
    "def post(email: str, id: int = None):\n",
    "    \"\"\"Validate email field and return error message if invalid\"\"\"\n",
    "    # Create a temporary contact with just the email\n",
    "    temp_contact = Contact(email=email)\n",
    "    \n",
    "    # Run email-specific validation\n",
    "    if not email:\n",
    "        return P(\"Email is required\", cls=(TextT.error, TextT.sm))\n",
    "    \n",
    "    # Check for duplicate email\n",
    "    if any(c.email == email and (id is None or c.id != id) for c in contacts()):\n",
    "        return P(\"Email already exists\", cls=(TextT.error, TextT.sm))\n",
    "    \n",
    "    # No error - return empty div\n",
    "    return Div()\n",
    "\n",
    "\n",
    "@rt(\"/contacts/create\")\n",
    "def post(contact: Contact):\n",
    "    return handle_contact_save(contact)"
   ]
  },
  {
   "cell_type": "markdown",
   "id": "75df9017-040a-493c-8851-a46dee6306e7",
   "metadata": {},
   "source": [
    "### Detail view"
   ]
  },
  {
   "cell_type": "code",
   "execution_count": 18,
   "id": "c243ef7e-fdb7-4a42-b888-78de86123e14",
   "metadata": {},
   "outputs": [],
   "source": [
    "#| export\n",
    "@rt(\"/contacts/{id:int}\")\n",
    "def get(id:int): return contact_detail(contacts[id])"
   ]
  },
  {
   "cell_type": "markdown",
   "id": "ec1069f7-425e-478f-ac36-97559fdbab09",
   "metadata": {},
   "source": [
    "### Delete contacts"
   ]
  },
  {
   "cell_type": "code",
   "execution_count": 19,
   "id": "4cdcbb15-ca03-45a6-aeb4-2d6beeab1a70",
   "metadata": {
    "jupyter": {
     "source_hidden": true
    }
   },
   "outputs": [],
   "source": [
    "#| export\n",
    "@rt(\"/contacts/{id:int}/confirm\")\n",
    "def get(id:int):\n",
    "    \"\"\"Confirmation modal for deleting a contact\"\"\"\n",
    "    contact = contacts[id]\n",
    "    return Modal(\n",
    "        ModalBody(\n",
    "            DivCentered(\n",
    "                UkIcon(\"alert-triangle\",cls=\"text-error mb-4 h-12 w-12\"),\n",
    "                H4(\"Are you sure you want to delete this contact?\", cls=\"text-center mb-2\"),\n",
    "                P(f\"{contact.first} {contact.last}\", cls=(TextT.center,TextT.medium)),\n",
    "                P(\"This action cannot be undone.\", cls=(TextT.center, TextT.error)),\n",
    "                cls=\"py-6\"\n",
    "            )\n",
    "        ),\n",
    "        header=ModalHeader(H3(\"Confirm Deletion\")),\n",
    "        footer=DivRAligned(\n",
    "            ModalCloseButton(\"Cancel\", cls=ButtonT.ghost), \n",
    "            # hx_confirm=\"Are you sure you want to delete this contact?\" can be added to have a pop up to confirm the action\n",
    "            Button(\"Delete\", cls=ButtonT.destructive, hx_delete=f\"/contacts/{id}\", hx_target=\"#modal-container\")),\n",
    "    id=\"contact-modal\",\n",
    "    open=True)\n",
    "\n",
    "@rt(\"/contacts/{id:int}\")\n",
    "def delete(id:int):\n",
    "    \"\"\"Delete a contact\"\"\"\n",
    "    contact = contacts[id]\n",
    "    name=f\"{contact.first} {contact.last}\".strip()\n",
    "    contacts.delete(id)\n",
    "    \n",
    "    updated_table = Div(contacts_table(), id=\"contacts-table\", hx_swap_oob=\"true\")\n",
    "    success_toast = create_toast(f\"Contact {name} has been deleted\", icon=\"trash-2\", alert_type=AlertT.warning)\n",
    "    \n",
    "    return Div(updated_table, success_toast)"
   ]
  },
  {
   "cell_type": "markdown",
   "id": "36dc3f5b-9a98-4a02-a3b2-6b54c4f5189e",
   "metadata": {},
   "source": [
    "### Support functions"
   ]
  },
  {
   "cell_type": "code",
   "execution_count": 20,
   "id": "e9f7cee8-81b0-4375-bf58-24f74b66af21",
   "metadata": {},
   "outputs": [],
   "source": [
    "#contacts.delete_where(\"id>=20\")\n",
    "# contacts()"
   ]
  },
  {
   "cell_type": "code",
   "execution_count": 21,
   "id": "f78c995c-6341-4eda-9bc8-0035c214f0c7",
   "metadata": {},
   "outputs": [
    {
     "ename": "NameError",
     "evalue": "name 'server' is not defined",
     "output_type": "error",
     "traceback": [
      "\u001b[0;31m---------------------------------------------------------------------------\u001b[0m",
      "\u001b[0;31mNameError\u001b[0m                                 Traceback (most recent call last)",
      "Cell \u001b[0;32mIn[21], line 1\u001b[0m\n\u001b[0;32m----> 1\u001b[0m \u001b[43mserver\u001b[49m\u001b[38;5;241m.\u001b[39mstop()\n",
      "\u001b[0;31mNameError\u001b[0m: name 'server' is not defined"
     ]
    }
   ],
   "source": [
    "server.stop()"
   ]
  },
  {
   "cell_type": "code",
   "execution_count": null,
   "id": "d20edf1c-774a-46f3-a2c5-1a3207ce9e88",
   "metadata": {
    "scrolled": true
   },
   "outputs": [],
   "source": [
    "server = JupyUvi(app)"
   ]
  },
  {
   "cell_type": "code",
   "execution_count": null,
   "id": "b6138ab1-18d2-4f2a-bd8a-6d3577b81f32",
   "metadata": {
    "scrolled": true
   },
   "outputs": [],
   "source": [
    "HTMX()"
   ]
  },
  {
   "cell_type": "code",
   "execution_count": null,
   "id": "0aa93e70-7bc9-4465-b773-17b8e6311fc3",
   "metadata": {},
   "outputs": [],
   "source": [
    "# running at http://localhost:8000/"
   ]
  },
  {
   "cell_type": "code",
   "execution_count": null,
   "id": "9717119d-2ff8-4762-801a-99e4a32a9dd8",
   "metadata": {},
   "outputs": [],
   "source": [
    "#| export\n",
    "serve()"
   ]
  },
  {
   "cell_type": "code",
   "execution_count": 23,
   "id": "2473e8f5-ad4e-4087-8c96-d0a339cb11a5",
   "metadata": {},
   "outputs": [],
   "source": [
    "from nbdev.export import nb_export\n",
    "nb_export('Contacts_v2.ipynb')"
   ]
  },
  {
   "cell_type": "code",
   "execution_count": null,
   "id": "0eab52df-ed86-4467-8392-021fede50010",
   "metadata": {},
   "outputs": [],
   "source": []
  }
 ],
 "metadata": {
  "kernelspec": {
   "display_name": "Python 3 (ipykernel)",
   "language": "python",
   "name": "python3"
  },
  "language_info": {
   "codemirror_mode": {
    "name": "ipython",
    "version": 3
   },
   "file_extension": ".py",
   "mimetype": "text/x-python",
   "name": "python",
   "nbconvert_exporter": "python",
   "pygments_lexer": "ipython3",
   "version": "3.12.8"
  }
 },
 "nbformat": 4,
 "nbformat_minor": 5
}
